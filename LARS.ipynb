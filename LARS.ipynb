{
 "cells": [
  {
   "cell_type": "code",
   "execution_count": 1,
   "metadata": {},
   "outputs": [],
   "source": [
    "import numpy as np\n",
    "import matplotlib.pyplot as plt"
   ]
  },
  {
   "cell_type": "code",
   "execution_count": 2,
   "metadata": {},
   "outputs": [
    {
     "ename": "SyntaxError",
     "evalue": "invalid syntax (1166051955.py, line 37)",
     "output_type": "error",
     "traceback": [
      "\u001b[1;36m  Cell \u001b[1;32mIn[2], line 37\u001b[1;36m\u001b[0m\n\u001b[1;33m    self.residual =\u001b[0m\n\u001b[1;37m                    ^\u001b[0m\n\u001b[1;31mSyntaxError\u001b[0m\u001b[1;31m:\u001b[0m invalid syntax\n"
     ]
    }
   ],
   "source": [
    "class LARS:\n",
    "\n",
    "    def __init__(self, learning_rate=0.001, tol=1e-6 verbose=False) -> None:\n",
    "\n",
    "        self.coefs_ = None\n",
    "        self.active_set = None\n",
    "        self.residual = []\n",
    "        self.corr = 0\n",
    "\n",
    "\n",
    "    def standardize(X):\n",
    "\n",
    "        mu = X.mean()\n",
    "        std = X.std()\n",
    "\n",
    "        return (X - mu) / std\n",
    "    \n",
    "\n",
    "    def predict(X):\n",
    "\n",
    "        pass\n",
    "    \n",
    "\n",
    "    def fit(self, X, y):\n",
    "\n",
    "        self.m, self.n = X.shape\n",
    "        X = self.standardize(X)\n",
    "        X = np.vstack((np.ones((self.m, 1), X)))\n",
    "        \n",
    "        if y.ndim == 1:\n",
    "\n",
    "            self.coefs_ = np.zeros((self.n, ))\n",
    "        \n",
    "        else:\n",
    "\n",
    "            self.coefs_ = np.zeros((self.n, 1))\n",
    "        \n",
    "\n",
    "        while self.residual\n",
    "        \n",
    "        \n",
    "\n",
    "        \n",
    "        \n",
    "\n",
    "\n"
   ]
  }
 ],
 "metadata": {
  "kernelspec": {
   "display_name": "base",
   "language": "python",
   "name": "python3"
  },
  "language_info": {
   "codemirror_mode": {
    "name": "ipython",
    "version": 3
   },
   "file_extension": ".py",
   "mimetype": "text/x-python",
   "name": "python",
   "nbconvert_exporter": "python",
   "pygments_lexer": "ipython3",
   "version": "3.12.4"
  }
 },
 "nbformat": 4,
 "nbformat_minor": 2
}
